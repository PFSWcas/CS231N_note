{
 "cells": [
  {
   "cell_type": "markdown",
   "metadata": {},
   "source": [
    "# 1. Basic settings"
   ]
  },
  {
   "cell_type": "code",
   "execution_count": 1,
   "metadata": {
    "collapsed": true
   },
   "outputs": [],
   "source": [
    "import time\n",
    "import numpy as np\n",
    "from CS231n.classifiers.fc_net import *\n",
    "from CS231n.data_utils import get_CIFAR10_data\n",
    "from CS231n.solver import Solver\n",
    "from CS231n.gradient_check import eval_numerical_gradient, eval_numerical_gradient_array\n",
    "import matplotlib.pyplot as plt"
   ]
  },
  {
   "cell_type": "code",
   "execution_count": 2,
   "metadata": {
    "collapsed": true
   },
   "outputs": [],
   "source": [
    "%matplotlib inline\n",
    "plt.rcParams['figure.figsize'] = (10.0, 8.0) # set default size of plots\n",
    "plt.rcParams['image.interpolation'] = 'nearest'\n",
    "plt.rcParams['image.cmap'] = 'gray'"
   ]
  },
  {
   "cell_type": "code",
   "execution_count": 3,
   "metadata": {
    "collapsed": true
   },
   "outputs": [],
   "source": [
    "# Optional setting\n",
    "# for auto-reloading external modules\n",
    "# see http://stackoverflow.com/questions/1907993/autoreload-of-modules-in-ipython\n",
    "%load_ext autoreload\n",
    "%autoreload 2"
   ]
  },
  {
   "cell_type": "code",
   "execution_count": 4,
   "metadata": {
    "collapsed": true
   },
   "outputs": [],
   "source": [
    "def rel_error(x, y):\n",
    "  \"\"\" returns relative error \"\"\"\n",
    "  return np.max(np.abs(x - y) / (np.maximum(1e-8, np.abs(x) + np.abs(y))))"
   ]
  },
  {
   "cell_type": "markdown",
   "metadata": {},
   "source": [
    "# 2. Data loading and Preprocessing"
   ]
  },
  {
   "cell_type": "code",
   "execution_count": 5,
   "metadata": {
    "collapsed": false,
    "scrolled": true
   },
   "outputs": [
    {
     "name": "stdout",
     "output_type": "stream",
     "text": [
      "The shape of X_train is  (49000, 3, 32, 32)\n",
      "The shape of y_train is  (49000,)\n",
      "The shape of X_val is  (1000, 3, 32, 32)\n",
      "The shape of y_val is  (1000,)\n",
      "The shape of X_test is  (1000, 3, 32, 32)\n",
      "The shape of y_test is  (1000,)\n"
     ]
    }
   ],
   "source": [
    "# Load the CIFAR10 data.\n",
    "DIR_data = 'D:/CS231N_CNN/DataSet/cifar-10-batches-py/'\n",
    "\n",
    "# the mean image has been sub-tracted\n",
    "data = get_CIFAR10_data(DIR_data, num_training=49000, num_validation=1000)\n",
    "# data is a dictionary:\n",
    "# data = {\n",
    "#        'X_train': X_train, 'y_train': y_train,\n",
    "#        'X_val': X_val, 'y_val': y_val,\n",
    "#        'X_test': X_test, 'y_test': y_test,\n",
    "#    }\n",
    "\n",
    "for k, v in data.items():\n",
    "    print(\"The shape of %s is \" %k,v.shape)"
   ]
  },
  {
   "cell_type": "markdown",
   "metadata": {},
   "source": [
    "## 3.1. Sanity check 1"
   ]
  },
  {
   "cell_type": "code",
   "execution_count": 6,
   "metadata": {
    "collapsed": false
   },
   "outputs": [
    {
     "name": "stdout",
     "output_type": "stream",
     "text": [
      "Initial loss (no regularization):  2.30236785889\n",
      "Initial loss (with regularization):  2.41260663185\n"
     ]
    }
   ],
   "source": [
    "from CS231n.classifiers.cnn import FirstConvNet\n",
    "model = FirstConvNet(use_batchnorm=True)\n",
    "\n",
    "N = 50\n",
    "X = np.random.randn(N, 3, 32, 32)\n",
    "y = np.random.randint(10, size=N)\n",
    "\n",
    "loss, grads = model.loss(X, y)\n",
    "print( 'Initial loss (no regularization): ', loss)\n",
    "\n",
    "model.reg = 1.0\n",
    "loss, grads = model.loss(X, y)\n",
    "print( 'Initial loss (with regularization): ', loss)"
   ]
  },
  {
   "cell_type": "markdown",
   "metadata": {},
   "source": [
    "## 3.2. Sanity check 2 - Gradietn check"
   ]
  },
  {
   "cell_type": "code",
   "execution_count": 7,
   "metadata": {
    "collapsed": false,
    "scrolled": true
   },
   "outputs": [
    {
     "name": "stdout",
     "output_type": "stream",
     "text": [
      "W1 max relative error: 2.622130e-06\n",
      "W2 max relative error: 1.174956e-06\n",
      "W3 max relative error: 8.877770e-08\n",
      "W4 max relative error: 7.155612e-08\n",
      "b1 max relative error: 1.734723e-10\n",
      "b2 max relative error: 8.673617e-11\n",
      "b3 max relative error: 0.000000e+00\n",
      "b4 max relative error: 1.240865e-09\n",
      "beta1 max relative error: 2.309687e-06\n",
      "beta2 max relative error: 1.489740e-06\n",
      "beta3 max relative error: 1.145001e-06\n",
      "gamma1 max relative error: 1.756470e-06\n",
      "gamma2 max relative error: 3.487141e-05\n",
      "gamma3 max relative error: 7.370572e-06\n"
     ]
    }
   ],
   "source": [
    "num_inputs = 2\n",
    "input_dim = (3, 12, 12)\n",
    "reg = 0.0\n",
    "num_classes = 10\n",
    "X = np.random.randn(num_inputs, *input_dim)\n",
    "y = np.random.randint(num_classes, size=num_inputs)\n",
    "\n",
    "model = FirstConvNet(input_dim=input_dim,\n",
    "                     dtype=np.float64,\n",
    "                     num_filters = [3],\n",
    "                     hidden_dims = [3,3],use_batchnorm = True)\n",
    "loss, grads = model.loss(X, y)\n",
    "for param_name in sorted(grads):\n",
    "    f = lambda _: model.loss(X, y)[0]\n",
    "    param_grad_num = eval_numerical_gradient(f, model.params[param_name], verbose=False, h=1e-6)\n",
    "    e = rel_error(param_grad_num, grads[param_name])\n",
    "    print( '%s max relative error: %e' % (param_name, rel_error(param_grad_num, grads[param_name])))"
   ]
  },
  {
   "cell_type": "markdown",
   "metadata": {},
   "source": [
    "## 3.3. Sanity check 3: Overfit a small dataset"
   ]
  },
  {
   "cell_type": "code",
   "execution_count": 8,
   "metadata": {
    "collapsed": false,
    "scrolled": false
   },
   "outputs": [
    {
     "name": "stdout",
     "output_type": "stream",
     "text": [
      "(Iteration \"1\" / \"40\") loss: \"4.050635\"\n",
      "(Epoch \"0\" / \"20\") train acc: \"0.180000\"; val_acc: \"0.144000\"\n",
      "(Iteration \"2\" / \"40\") loss: \"2.755930\"\n",
      "(Epoch \"1\" / \"20\") train acc: \"0.330000\"; val_acc: \"0.173000\"\n",
      "(Iteration \"3\" / \"40\") loss: \"2.396112\"\n",
      "(Iteration \"4\" / \"40\") loss: \"2.643335\"\n",
      "(Epoch \"2\" / \"20\") train acc: \"0.400000\"; val_acc: \"0.145000\"\n",
      "(Iteration \"5\" / \"40\") loss: \"1.907696\"\n",
      "(Iteration \"6\" / \"40\") loss: \"1.880950\"\n",
      "(Epoch \"3\" / \"20\") train acc: \"0.390000\"; val_acc: \"0.168000\"\n",
      "(Iteration \"7\" / \"40\") loss: \"1.922502\"\n",
      "(Iteration \"8\" / \"40\") loss: \"1.534254\"\n",
      "(Epoch \"4\" / \"20\") train acc: \"0.480000\"; val_acc: \"0.163000\"\n",
      "(Iteration \"9\" / \"40\") loss: \"1.591058\"\n",
      "(Iteration \"10\" / \"40\") loss: \"1.530045\"\n",
      "(Epoch \"5\" / \"20\") train acc: \"0.600000\"; val_acc: \"0.171000\"\n",
      "(Iteration \"11\" / \"40\") loss: \"1.549571\"\n",
      "(Iteration \"12\" / \"40\") loss: \"1.262886\"\n",
      "(Epoch \"6\" / \"20\") train acc: \"0.660000\"; val_acc: \"0.195000\"\n",
      "(Iteration \"13\" / \"40\") loss: \"1.389375\"\n",
      "(Iteration \"14\" / \"40\") loss: \"1.258442\"\n",
      "(Epoch \"7\" / \"20\") train acc: \"0.720000\"; val_acc: \"0.193000\"\n",
      "(Iteration \"15\" / \"40\") loss: \"1.293881\"\n",
      "(Iteration \"16\" / \"40\") loss: \"1.206070\"\n",
      "(Epoch \"8\" / \"20\") train acc: \"0.740000\"; val_acc: \"0.209000\"\n",
      "(Iteration \"17\" / \"40\") loss: \"1.176788\"\n",
      "(Iteration \"18\" / \"40\") loss: \"1.049712\"\n",
      "(Epoch \"9\" / \"20\") train acc: \"0.810000\"; val_acc: \"0.217000\"\n",
      "(Iteration \"19\" / \"40\") loss: \"0.720742\"\n",
      "(Iteration \"20\" / \"40\") loss: \"0.910116\"\n",
      "(Epoch \"10\" / \"20\") train acc: \"0.800000\"; val_acc: \"0.210000\"\n",
      "(Iteration \"21\" / \"40\") loss: \"0.796647\"\n",
      "(Iteration \"22\" / \"40\") loss: \"0.738810\"\n",
      "(Epoch \"11\" / \"20\") train acc: \"0.850000\"; val_acc: \"0.213000\"\n",
      "(Iteration \"23\" / \"40\") loss: \"0.786793\"\n",
      "(Iteration \"24\" / \"40\") loss: \"0.612907\"\n",
      "(Epoch \"12\" / \"20\") train acc: \"0.880000\"; val_acc: \"0.215000\"\n",
      "(Iteration \"25\" / \"40\") loss: \"0.605402\"\n",
      "(Iteration \"26\" / \"40\") loss: \"0.498515\"\n",
      "(Epoch \"13\" / \"20\") train acc: \"0.880000\"; val_acc: \"0.202000\"\n",
      "(Iteration \"27\" / \"40\") loss: \"0.437290\"\n",
      "(Iteration \"28\" / \"40\") loss: \"0.535327\"\n",
      "(Epoch \"14\" / \"20\") train acc: \"0.890000\"; val_acc: \"0.207000\"\n",
      "(Iteration \"29\" / \"40\") loss: \"0.469992\"\n",
      "(Iteration \"30\" / \"40\") loss: \"0.450293\"\n",
      "(Epoch \"15\" / \"20\") train acc: \"0.960000\"; val_acc: \"0.215000\"\n",
      "(Iteration \"31\" / \"40\") loss: \"0.400322\"\n",
      "(Iteration \"32\" / \"40\") loss: \"0.301193\"\n",
      "(Epoch \"16\" / \"20\") train acc: \"0.980000\"; val_acc: \"0.205000\"\n",
      "(Iteration \"33\" / \"40\") loss: \"0.229054\"\n",
      "(Iteration \"34\" / \"40\") loss: \"0.223486\"\n",
      "(Epoch \"17\" / \"20\") train acc: \"0.980000\"; val_acc: \"0.205000\"\n",
      "(Iteration \"35\" / \"40\") loss: \"0.231086\"\n",
      "(Iteration \"36\" / \"40\") loss: \"0.168388\"\n",
      "(Epoch \"18\" / \"20\") train acc: \"0.990000\"; val_acc: \"0.214000\"\n",
      "(Iteration \"37\" / \"40\") loss: \"0.128411\"\n",
      "(Iteration \"38\" / \"40\") loss: \"0.145095\"\n",
      "(Epoch \"19\" / \"20\") train acc: \"0.990000\"; val_acc: \"0.221000\"\n",
      "(Iteration \"39\" / \"40\") loss: \"0.162404\"\n",
      "(Iteration \"40\" / \"40\") loss: \"0.087024\"\n",
      "(Epoch \"20\" / \"20\") train acc: \"0.990000\"; val_acc: \"0.217000\"\n"
     ]
    }
   ],
   "source": [
    "num_train = 100\n",
    "small_data = {\n",
    "  'X_train': data['X_train'][:num_train],\n",
    "  'y_train': data['y_train'][:num_train],\n",
    "  'X_val': data['X_val'],\n",
    "  'y_val': data['y_val'],\n",
    "}\n",
    "\n",
    "model = FirstConvNet(weight_scale=5e-2,use_batchnorm = False)\n",
    "\n",
    "solver = Solver(model, small_data,\n",
    "                num_epochs=20, batch_size=50,\n",
    "                update_rule='Adam',\n",
    "                optim_config={\n",
    "                  'learning_rate': 1e-3,\n",
    "                },\n",
    "                verbose=True, print_every=1)\n",
    "solver.train()"
   ]
  },
  {
   "cell_type": "code",
   "execution_count": 9,
   "metadata": {
    "collapsed": false
   },
   "outputs": [
    {
     "data": {
      "image/png": "[encoded data removed]",
      "text/plain": [
       "<matplotlib.figure.Figure at 0x183459085f8>"
      ]
     },
     "metadata": {},
     "output_type": "display_data"
    }
   ],
   "source": [
    "plt.subplot(2, 1, 1)\n",
    "plt.plot(solver.loss_history, 'o')\n",
    "plt.xlabel('iteration')\n",
    "plt.ylabel('loss')\n",
    "\n",
    "plt.subplot(2, 1, 2)\n",
    "plt.plot(solver.train_acc_history, '-o')\n",
    "plt.plot(solver.val_acc_history, '-o')\n",
    "plt.legend(['train', 'val'], loc='upper left')\n",
    "plt.xlabel('epoch')\n",
    "plt.ylabel('accuracy')\n",
    "plt.show()"
   ]
  },
  {
   "cell_type": "markdown",
   "metadata": {},
   "source": [
    "## 4. Train a model"
   ]
  },
  {
   "cell_type": "code",
   "execution_count": null,
   "metadata": {
    "collapsed": false,
    "scrolled": true
   },
   "outputs": [],
   "source": [
    "model_1 = FirstConvNet(weight_scale=5e-2, reg=0.01,\n",
    "                       filter_size = 3,\n",
    "                       \n",
    "                       use_batchnorm=True,\n",
    "                       num_filters=[16, 32, 64],\n",
    "                       hidden_dims=[500, 500])\n",
    "\n",
    "solver_1 = Solver(model_1, data,\n",
    "                num_epochs=5, batch_size=50,\n",
    "                lr_decay = 0.95,\n",
    "                update_rule='Adam',\n",
    "                optim_config={\n",
    "                  'learning_rate': 1e-3,\n",
    "                },\n",
    "                verbose=True, print_every=40)\n",
    "solver_1.train()"
   ]
  },
  {
   "cell_type": "code",
   "execution_count": null,
   "metadata": {
    "collapsed": false
   },
   "outputs": [],
   "source": [
    "solver = solver_1\n",
    "plt.subplot(2, 1, 1)\n",
    "plt.plot(solver.loss_history, 'o')\n",
    "plt.xlabel('iteration')\n",
    "plt.ylabel('loss')\n",
    "\n",
    "plt.subplot(2, 1, 2)\n",
    "plt.plot(solver.train_acc_history, '-o')\n",
    "plt.plot(solver.val_acc_history, '-o')\n",
    "plt.legend(['train', 'val'], loc='upper left')\n",
    "plt.xlabel('epoch')\n",
    "plt.ylabel('accuracy')\n",
    "plt.show()"
   ]
  },
  {
   "cell_type": "markdown",
   "metadata": {},
   "source": [
    "## 5 Extral Experiments"
   ]
  },
  {
   "cell_type": "code",
   "execution_count": null,
   "metadata": {
    "collapsed": false
   },
   "outputs": [],
   "source": [
    "import json\n",
    "class ModelExp(object):\n",
    "    ''' Class to handle the different model run for the experiments '''\n",
    "    def __init__(self,model):\n",
    "        self.model = model\n",
    "        self.versions = [f for f in os.listdir(model) if f[:2] == 'lr']\n",
    "        \n",
    "    def __str__(self):\n",
    "        conf_file = os.path.join(self.model,'conf_init.json')\n",
    "        with open(conf_file, 'r') as f:\n",
    "            conf = json.load(f)\n",
    "        for key,elt in conf.iteritems():\n",
    "                print( str(key),' : ', str(elt))\n",
    "        \n",
    "    def get_best_val(self):\n",
    "        d = self.get_checkpoints()\n",
    "        return {key:f['best_val_acc'] for key,f in d.iteritems()}\n",
    "    \n",
    "    def get_best_model(self):\n",
    "        d = self.get_checkpoints()\n",
    "        return {key:[f['best_val_acc'],f['best_params'],f['model']] for key,f in d.iteritems()}\n",
    "    \n",
    "    \n",
    "    def get_checkpoint_name(self,version):\n",
    "        ''' Given a specific version of the model ,return the name of the last checkpoint '''\n",
    "        \n",
    "        path = os.path.join(self.model,version,'checkpoints')\n",
    "        return 'check_'+str(max(map(int,[f.split('_')[-1] for f in os.listdir(path)])))\n",
    "\n",
    "    def get_checkpoints_name(self):\n",
    "        ''' Return a dict with the different version and their corresponding last checkpoints name '''\n",
    "        \n",
    "        return {key:self.get_checkpoint_name(os.path.join(self.model,key)) for key in self.versions}\n",
    "\n",
    "    def get_checkpoint(self,version,name):\n",
    "        ''' Given a version of the model and a checkpoint name, return the checkpoit itself'''\n",
    "        \n",
    "        return joblib.load(os.path.join(self.model,version,'checkpoints',name,name+'.pkl'))\n",
    "    \n",
    "    def get_last_checkpoint(self,version):\n",
    "        ''' Given a version of the model, return the last checkpoint itselfk'''\n",
    "        name = self.get_checkpoint_name(version)\n",
    "        return joblib.load(os.path.join(self.model,version,'checkpoints',name,name+'.pkl'))        \n",
    "        \n",
    "    def get_checkpoints(self):\n",
    "        ''' Return a dict with the different version and their corresponding last checkpoints '''\n",
    "        \n",
    "        d = self.get_checkpoints_name()\n",
    "        return {version:self.get_checkpoint(version,name) for version,name in d.iteritems()}\n",
    "    \n",
    "    def inspect_last_checkpoint(self,version,ymax):\n",
    "        check = self.get_last_checkpoint(version)\n",
    "        fig = plt.figure(figsize=(15, 5))\n",
    "        ax1 = plt.subplot(121)\n",
    "        ax1.plot(check['loss_history'], label=version)\n",
    "        ax1.set_xlabel('epoch')\n",
    "        ax1.set_ylabel('accuracy')\n",
    "        ax1.set_title(version,fontsize = 24)\n",
    "        ax1.legend(loc = 'upper right',fontsize = 24)\n",
    "        ax1.set_ylim(0,ymax)\n",
    "        ax2 = plt.subplot(122)\n",
    "        ax2.plot(check['train_acc_history'],label = version+'-train')\n",
    "        ax2.plot(check['val_acc_history'],label = version+'-val')\n",
    "        ax2.set_xlabel('epoch')\n",
    "        ax2.set_ylabel('accuracy')\n",
    "        ax2.legend(loc = 'lower right',fontsize = 24)\n",
    "        ax2.set_title(version,fontsize = 24)       \n",
    "        \n",
    "    def inspect_checkpoints(self):\n",
    "        ''' solvers is a dict with key:solver.\n",
    "        Return a plot with the different loss on of top of another '''\n",
    "        checks = self.get_checkpoints()\n",
    "        \n",
    "        fig = plt.figure(figsize=(10, 10))\n",
    "        height = len(checks) + 1\n",
    "        ax = plt.subplot(height, 1, 1)\n",
    "        axs = [plt.subplot(height, 1, i + 2) for i in range(len(checks))]\n",
    "\n",
    "        i = 0\n",
    "        for key, check in checks.iteritems():\n",
    "            ax.plot(check['loss_history'], label=key)\n",
    "            ax.legend(fontsize=24)\n",
    "            ax.tick_params(labelsize=12)\n",
    "            ax.set_xlabel('epoch')\n",
    "            ax.set_ylabel('accuracy')\n",
    "            ax.set_ylim(0,5)\n",
    "            axs[i].plot(check['train_acc_history'])\n",
    "            axs[i].plot(check['val_acc_history'])\n",
    "            axs[i].legend(['train', 'val'], loc='upper left')\n",
    "            axs[i].set_xlabel('epoch')\n",
    "            axs[i].set_ylabel('accuracy')\n",
    "            axs[i].set_title(key, fontsize=24)\n",
    "            i += 1    "
   ]
  },
  {
   "cell_type": "code",
   "execution_count": null,
   "metadata": {
    "collapsed": false
   },
   "outputs": [],
   "source": [
    "import os\n",
    "roots = 'D:/CS231N_CNN/notebook/Assignment2'\n",
    "model_0 = ModelExp(os.path.join(roots,'experiments','FirstConvNet','model_0'))\n",
    "model_0.inspect_checkpoints()"
   ]
  }
 ],
 "metadata": {
  "kernelspec": {
   "display_name": "Python 3",
   "language": "python",
   "name": "python3"
  },
  "language_info": {
   "codemirror_mode": {
    "name": "ipython",
    "version": 3
   },
   "file_extension": ".py",
   "mimetype": "text/x-python",
   "name": "python",
   "nbconvert_exporter": "python",
   "pygments_lexer": "ipython3",
   "version": "3.6.0"
  }
 },
 "nbformat": 4,
 "nbformat_minor": 2
}
