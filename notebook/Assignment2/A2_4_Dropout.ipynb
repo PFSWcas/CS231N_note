{
 "cells": [
  {
   "cell_type": "markdown",
   "metadata": {},
   "source": [
    "# Dropout\n",
    "\n",
    "Dropout [1] is a technique for **regularizing neural networks** by randomly setting some features to zero during the forward pass. In this exercise you will implement a dropout layer and modify your fully-connected network to optionally use dropout.\n",
    "\n",
    "[1] Geoffrey E. Hinton et al, \"Improving neural networks by preventing co-adaptation of feature detectors\", arXiv 2012\n",
    "\n",
    "![](Dropout.png)"
   ]
  },
  {
   "cell_type": "markdown",
   "metadata": {},
   "source": [
    "## 1. Basic settings"
   ]
  },
  {
   "cell_type": "code",
   "execution_count": 1,
   "metadata": {
    "collapsed": true
   },
   "outputs": [],
   "source": [
    "import time\n",
    "import numpy as np\n",
    "from CS231n.classifiers.fc_net import *\n",
    "from CS231n.data_utils import get_CIFAR10_data\n",
    "from CS231n.solver import Solver\n",
    "from CS231n.gradient_check import eval_numerical_gradient, eval_numerical_gradient_array\n",
    "import matplotlib.pyplot as plt"
   ]
  },
  {
   "cell_type": "code",
   "execution_count": 2,
   "metadata": {
    "collapsed": true
   },
   "outputs": [],
   "source": [
    "%matplotlib inline\n",
    "plt.rcParams['figure.figsize'] = (10.0, 8.0) # set default size of plots\n",
    "plt.rcParams['image.interpolation'] = 'nearest'\n",
    "plt.rcParams['image.cmap'] = 'gray'"
   ]
  },
  {
   "cell_type": "code",
   "execution_count": 3,
   "metadata": {
    "collapsed": true
   },
   "outputs": [],
   "source": [
    "# Optional setting\n",
    "# for auto-reloading external modules\n",
    "# see http://stackoverflow.com/questions/1907993/autoreload-of-modules-in-ipython\n",
    "%load_ext autoreload\n",
    "%autoreload 2"
   ]
  },
  {
   "cell_type": "code",
   "execution_count": 4,
   "metadata": {
    "collapsed": true
   },
   "outputs": [],
   "source": [
    "def rel_error(x, y):\n",
    "  \"\"\" returns relative error \"\"\"\n",
    "  return np.max(np.abs(x - y) / (np.maximum(1e-8, np.abs(x) + np.abs(y))))"
   ]
  },
  {
   "cell_type": "markdown",
   "metadata": {},
   "source": [
    "## 2. Data loading and Preprocessing "
   ]
  },
  {
   "cell_type": "code",
   "execution_count": 5,
   "metadata": {
    "collapsed": false
   },
   "outputs": [
    {
     "name": "stdout",
     "output_type": "stream",
     "text": [
      "The shape of X_train is  (49000, 3, 32, 32)\n",
      "The shape of y_train is  (49000,)\n",
      "The shape of X_val is  (1000, 3, 32, 32)\n",
      "The shape of y_val is  (1000,)\n",
      "The shape of X_test is  (1000, 3, 32, 32)\n",
      "The shape of y_test is  (1000,)\n"
     ]
    }
   ],
   "source": [
    "# Load the CIFAR10 data.\n",
    "DIR_data = 'D:/CS231N_CNN/DataSet/cifar-10-batches-py/'\n",
    "\n",
    "# the mean image has been sub-tracted\n",
    "data = get_CIFAR10_data(DIR_data, num_training=49000, num_validation=1000)\n",
    "# data is a dictionary:\n",
    "# data = {\n",
    "#        'X_train': X_train, 'y_train': y_train,\n",
    "#        'X_val': X_val, 'y_val': y_val,\n",
    "#        'X_test': X_test, 'y_test': y_test,\n",
    "#    }\n",
    "\n",
    "for k, v in data.items():\n",
    "    print(\"The shape of %s is \" %k,v.shape)"
   ]
  },
  {
   "cell_type": "markdown",
   "metadata": {},
   "source": [
    "## 3.1. Dropout: Forward Pass"
   ]
  },
  {
   "cell_type": "markdown",
   "metadata": {},
   "source": [
    "Vanilla dropout in an example 3-layer Neural Network would be implemented as follows:\n",
    "```python\n",
    "\"\"\" Vanilla Dropout: Not recommended implementation (see notes below) \"\"\"\n",
    "\n",
    "p = 0.5 # probability of keeping a unit active. higher = less dropout\n",
    "\n",
    "def train_step(X):\n",
    "  \"\"\" X contains the data \"\"\"\n",
    "  \n",
    "  # forward pass for example 3-layer neural network\n",
    "  H1 = np.maximum(0, np.dot(W1, X) + b1)\n",
    "  U1 = np.random.rand(*H1.shape) < p # first dropout mask\n",
    "  H1 *= U1 # drop!\n",
    "  H2 = np.maximum(0, np.dot(W2, H1) + b2)\n",
    "  U2 = np.random.rand(*H2.shape) < p # second dropout mask\n",
    "  H2 *= U2 # drop!\n",
    "  out = np.dot(W3, H2) + b3\n",
    "  \n",
    "  # backward pass: compute gradients... (not shown)\n",
    "  # perform parameter update... (not shown)\n",
    "  \n",
    "def predict(X):\n",
    "  # ensembled forward pass\n",
    "  H1 = np.maximum(0, np.dot(W1, X) + b1) * p # NOTE: scale the activations\n",
    "  H2 = np.maximum(0, np.dot(W2, H1) + b2) * p # NOTE: scale the activations\n",
    "  out = np.dot(W3, H2) + b3\n",
    "```\n",
    "In the code above, inside the **train_step** function we have performed dropout twice: on the first hidden layer and on the second hidden layer. It is also possible to perform dropout right on the input layer, in which case we would also create a binary mask for the input **X**. The backward pass remains unchanged, but of course has to take into account the generated masks** U1,U2**.\n",
    "\n",
    "Crucially, note that in the predict function we are not dropping anymore, but we are performing a scaling of both hidden layer outputs by $p$. This is important because **at test time all neurons see all their inputs**, so we want the outputs of neurons at test time to be identical to their expected outputs at training time. For example, in case of $p=0.5$, the neurons must halve their outputs at test time to have the same output as they had during training time (in expectation). To see this, consider an output of a neuron $x$(before dropout). With dropout, the expected output from this neuron will become $px+(1−p)0$, because the neuron’s output will be set to zero with probability $1−p$. At test time, when we keep the neuron always active, we must adjust $x→px$ to keep the same expected output. It can also be shown that performing this attenuation at test time can be related to the process of iterating over all the possible binary masks (and therefore all the exponentially many sub-networks) and computing their ensemble prediction.\n",
    "\n",
    "The undesirable property of the scheme presented above is that we must scale the activations by $p$ at test time. Since test-time performance is so critical, it is always preferable to use **inverted dropout**, which performs the scaling at train time, leaving the forward pass at test time untouched. Additionally, this has the appealing property that the prediction code can remain untouched when you decide to tweak where you apply dropout, or if at all. Inverted dropout looks as follows:\n",
    "\n",
    "```python\n",
    "\"\"\" \n",
    "Inverted Dropout: Recommended implementation example.\n",
    "We drop and scale at train time and don't do anything at test time.\n",
    "\"\"\"\n",
    "if mode == 'train':\n",
    "    mask = (np.random.rand(*x.shape) < p) / p\n",
    "    out = x * mask\n",
    "elif mode=='test':\n",
    "    mask = None\n",
    "    out = x\n",
    "```"
   ]
  },
  {
   "cell_type": "code",
   "execution_count": 6,
   "metadata": {
    "collapsed": false
   },
   "outputs": [
    {
     "name": "stdout",
     "output_type": "stream",
     "text": [
      "Running tests with p =  0.3\n",
      "Mean of input:  9.99865921124\n",
      "Mean of train-time output:  9.98786781902\n",
      "Mean of test-time output:  9.99865921124\n",
      "Fraction of train-time output set to zero:  0.70034\n",
      "Fraction of test-time output set to zero:  0.0\n",
      "\n",
      " \n",
      "Running tests with p =  0.6\n",
      "Mean of input:  9.99865921124\n",
      "Mean of train-time output:  10.007430049\n",
      "Mean of test-time output:  9.99865921124\n",
      "Fraction of train-time output set to zero:  0.39926\n",
      "Fraction of test-time output set to zero:  0.0\n",
      "\n",
      " \n",
      "Running tests with p =  0.1\n",
      "Mean of input:  9.99865921124\n",
      "Mean of train-time output:  9.95798000148\n",
      "Mean of test-time output:  9.99865921124\n",
      "Fraction of train-time output set to zero:  0.900368\n",
      "Fraction of test-time output set to zero:  0.0\n",
      "\n",
      " \n"
     ]
    }
   ],
   "source": [
    "x = np.random.randn(500, 500) + 10\n",
    "\n",
    "for p in [0.3, 0.6, 0.1]:\n",
    "    out, cache = dropout_forward(x, {'mode': 'train', 'p': p})\n",
    "    out_test, _ = dropout_forward(x, {'mode': 'test', 'p': p})\n",
    "\n",
    "    print('Running tests with p = ', p)\n",
    "    print('Mean of input: ', x.mean())\n",
    "    print('Mean of train-time output: ', out.mean())\n",
    "    print('Mean of test-time output: ', out_test.mean())\n",
    "    print('Fraction of train-time output set to zero: ', (out == 0).mean())\n",
    "    print('Fraction of test-time output set to zero: ', (out_test == 0).mean())\n",
    "    print('\\n ')"
   ]
  },
  {
   "cell_type": "markdown",
   "metadata": {},
   "source": [
    "## 3.2. Dropout: Backward Pass"
   ]
  },
  {
   "cell_type": "markdown",
   "metadata": {},
   "source": [
    "Because $out = x * mask$. The backward pass is performed like this:\n",
    "```python\n",
    "dx = dout * mask\n",
    "```"
   ]
  },
  {
   "cell_type": "code",
   "execution_count": 7,
   "metadata": {
    "collapsed": false
   },
   "outputs": [
    {
     "name": "stdout",
     "output_type": "stream",
     "text": [
      "dx relative error:  5.4456115319e-11\n"
     ]
    }
   ],
   "source": [
    "x = np.random.randn(10, 10) + 10\n",
    "dout = np.random.randn(*x.shape)\n",
    "\n",
    "dropout_param = {'mode': 'train', 'p': 0.8, 'seed': 123}\n",
    "out, cache = dropout_forward(x, dropout_param)\n",
    "dx = dropout_backward(dout, cache)\n",
    "dx_num = eval_numerical_gradient_array(lambda xx: dropout_forward(xx, dropout_param)[0], x, dout)\n",
    "\n",
    "print('dx relative error: ', rel_error(dx, dx_num))"
   ]
  },
  {
   "cell_type": "markdown",
   "metadata": {},
   "source": [
    "## 4.1. Fully-Connected nets with Dropout"
   ]
  },
  {
   "cell_type": "code",
   "execution_count": 8,
   "metadata": {
    "collapsed": false
   },
   "outputs": [
    {
     "name": "stdout",
     "output_type": "stream",
     "text": [
      "Running check with dropout =  0\n",
      "Running check with dropout =  0.25\n",
      "We use dropout with p = \"0.250000\"\n",
      "Running check with dropout =  1.0\n",
      "We use dropout with p = \"1.000000\"\n",
      "Initial loss:  2.30134643809\n",
      "W1 relative error: 1.29e-07\n",
      "W2 relative error: 3.95e-07\n",
      "W3 relative error: 4.28e-07\n",
      "b1 relative error: 6.99e-09\n",
      "b2 relative error: 2.82e-09\n",
      "b3 relative error: 8.93e-11\n"
     ]
    }
   ],
   "source": [
    "N, D, H1, H2, C = 2, 15, 20, 30, 10\n",
    "X = np.random.randn(N, D)\n",
    "y = np.random.randint(C, size=(N,))\n",
    "\n",
    "for dropout in [0, 0.25, 1.0]:\n",
    "    print('Running check with dropout = ', dropout)\n",
    "    model = FullyConnectedNet([H1, H2], \n",
    "                              input_dim=D, \n",
    "                              num_classes=C,\n",
    "                              weight_scale=5e-2, dtype=np.float64,\n",
    "                              dropout=dropout, seed=123)\n",
    "\n",
    "loss, grads = model.loss(X, y)\n",
    "print('Initial loss: ', loss)\n",
    "\n",
    "for name in sorted(grads):\n",
    "    f = lambda _: model.loss(X, y)[0]\n",
    "    grad_num = eval_numerical_gradient(f, model.params[name], verbose=False, h=1e-5)\n",
    "    print(\"%s relative error: %.2e\" % (name, rel_error(grad_num, grads[name])))"
   ]
  },
  {
   "cell_type": "markdown",
   "metadata": {},
   "source": [
    "## 4.2. Regularization experiment\n",
    "\n",
    "As an experiment, we will train a pair of two-layer networks on 500 training examples: one will use no dropout, and one will use a dropout probability of 0.75. We will then visualize the training and validation accuracies of the two networks over time."
   ]
  },
  {
   "cell_type": "code",
   "execution_count": 9,
   "metadata": {
    "collapsed": false,
    "scrolled": false
   },
   "outputs": [
    {
     "name": "stdout",
     "output_type": "stream",
     "text": [
      "0.0\n",
      "(Iteration \"1\" / \"125\") loss: \"8.596245\"\n",
      "(Epoch \"0\" / \"25\") train acc: \"0.224000\"; val_acc: \"0.183000\"\n"
     ]
    },
    {
     "name": "stderr",
     "output_type": "stream",
     "text": [
      "D:\\CS231N_CNN\\notebook\\Assignment2\\CS231n\\layers.py:703: RuntimeWarning: divide by zero encountered in log\n",
      "  loss = -np.sum(np.log(probs[np.arange(N), y])) / N\n"
     ]
    },
    {
     "name": "stdout",
     "output_type": "stream",
     "text": [
      "(Epoch \"1\" / \"25\") train acc: \"0.380000\"; val_acc: \"0.219000\"\n",
      "(Epoch \"2\" / \"25\") train acc: \"0.482000\"; val_acc: \"0.253000\"\n",
      "(Epoch \"3\" / \"25\") train acc: \"0.620000\"; val_acc: \"0.273000\"\n",
      "(Epoch \"4\" / \"25\") train acc: \"0.664000\"; val_acc: \"0.237000\"\n",
      "(Epoch \"5\" / \"25\") train acc: \"0.760000\"; val_acc: \"0.284000\"\n",
      "(Epoch \"6\" / \"25\") train acc: \"0.824000\"; val_acc: \"0.306000\"\n",
      "(Epoch \"7\" / \"25\") train acc: \"0.846000\"; val_acc: \"0.250000\"\n",
      "(Epoch \"8\" / \"25\") train acc: \"0.860000\"; val_acc: \"0.281000\"\n",
      "(Epoch \"9\" / \"25\") train acc: \"0.894000\"; val_acc: \"0.289000\"\n",
      "(Epoch \"10\" / \"25\") train acc: \"0.932000\"; val_acc: \"0.287000\"\n",
      "(Epoch \"11\" / \"25\") train acc: \"0.968000\"; val_acc: \"0.302000\"\n",
      "(Epoch \"12\" / \"25\") train acc: \"0.970000\"; val_acc: \"0.294000\"\n",
      "(Epoch \"13\" / \"25\") train acc: \"0.978000\"; val_acc: \"0.289000\"\n",
      "(Epoch \"14\" / \"25\") train acc: \"0.984000\"; val_acc: \"0.293000\"\n",
      "(Epoch \"15\" / \"25\") train acc: \"0.982000\"; val_acc: \"0.291000\"\n",
      "(Epoch \"16\" / \"25\") train acc: \"0.992000\"; val_acc: \"0.289000\"\n",
      "(Epoch \"17\" / \"25\") train acc: \"0.996000\"; val_acc: \"0.287000\"\n",
      "(Epoch \"18\" / \"25\") train acc: \"0.996000\"; val_acc: \"0.290000\"\n",
      "(Epoch \"19\" / \"25\") train acc: \"0.998000\"; val_acc: \"0.288000\"\n",
      "(Epoch \"20\" / \"25\") train acc: \"0.998000\"; val_acc: \"0.294000\"\n",
      "(Epoch \"21\" / \"25\") train acc: \"1.000000\"; val_acc: \"0.298000\"\n",
      "(Epoch \"22\" / \"25\") train acc: \"1.000000\"; val_acc: \"0.305000\"\n",
      "(Epoch \"23\" / \"25\") train acc: \"1.000000\"; val_acc: \"0.303000\"\n",
      "(Epoch \"24\" / \"25\") train acc: \"1.000000\"; val_acc: \"0.304000\"\n",
      "(Epoch \"25\" / \"25\") train acc: \"1.000000\"; val_acc: \"0.305000\"\n",
      "We use dropout with p = \"0.250000\"\n",
      "0.25\n",
      "(Iteration \"1\" / \"125\") loss: \"31.942383\"\n",
      "(Epoch \"0\" / \"25\") train acc: \"0.164000\"; val_acc: \"0.140000\"\n",
      "(Epoch \"1\" / \"25\") train acc: \"0.310000\"; val_acc: \"0.226000\"\n",
      "(Epoch \"2\" / \"25\") train acc: \"0.374000\"; val_acc: \"0.276000\"\n",
      "(Epoch \"3\" / \"25\") train acc: \"0.440000\"; val_acc: \"0.284000\"\n",
      "(Epoch \"4\" / \"25\") train acc: \"0.454000\"; val_acc: \"0.287000\"\n",
      "(Epoch \"5\" / \"25\") train acc: \"0.470000\"; val_acc: \"0.287000\"\n",
      "(Epoch \"6\" / \"25\") train acc: \"0.504000\"; val_acc: \"0.295000\"\n",
      "(Epoch \"7\" / \"25\") train acc: \"0.534000\"; val_acc: \"0.303000\"\n",
      "(Epoch \"8\" / \"25\") train acc: \"0.556000\"; val_acc: \"0.310000\"\n",
      "(Epoch \"9\" / \"25\") train acc: \"0.564000\"; val_acc: \"0.308000\"\n",
      "(Epoch \"10\" / \"25\") train acc: \"0.584000\"; val_acc: \"0.310000\"\n",
      "(Epoch \"11\" / \"25\") train acc: \"0.586000\"; val_acc: \"0.320000\"\n",
      "(Epoch \"12\" / \"25\") train acc: \"0.624000\"; val_acc: \"0.331000\"\n",
      "(Epoch \"13\" / \"25\") train acc: \"0.608000\"; val_acc: \"0.344000\"\n",
      "(Epoch \"14\" / \"25\") train acc: \"0.628000\"; val_acc: \"0.336000\"\n",
      "(Epoch \"15\" / \"25\") train acc: \"0.662000\"; val_acc: \"0.321000\"\n",
      "(Epoch \"16\" / \"25\") train acc: \"0.680000\"; val_acc: \"0.315000\"\n",
      "(Epoch \"17\" / \"25\") train acc: \"0.678000\"; val_acc: \"0.313000\"\n",
      "(Epoch \"18\" / \"25\") train acc: \"0.696000\"; val_acc: \"0.304000\"\n",
      "(Epoch \"19\" / \"25\") train acc: \"0.696000\"; val_acc: \"0.310000\"\n",
      "(Epoch \"20\" / \"25\") train acc: \"0.722000\"; val_acc: \"0.314000\"\n",
      "(Epoch \"21\" / \"25\") train acc: \"0.734000\"; val_acc: \"0.321000\"\n",
      "(Epoch \"22\" / \"25\") train acc: \"0.748000\"; val_acc: \"0.325000\"\n",
      "(Epoch \"23\" / \"25\") train acc: \"0.748000\"; val_acc: \"0.336000\"\n",
      "(Epoch \"24\" / \"25\") train acc: \"0.754000\"; val_acc: \"0.333000\"\n",
      "(Epoch \"25\" / \"25\") train acc: \"0.754000\"; val_acc: \"0.325000\"\n",
      "We use dropout with p = \"0.500000\"\n",
      "0.5\n",
      "(Iteration \"1\" / \"125\") loss: \"17.365199\"\n",
      "(Epoch \"0\" / \"25\") train acc: \"0.250000\"; val_acc: \"0.195000\"\n",
      "(Epoch \"1\" / \"25\") train acc: \"0.348000\"; val_acc: \"0.230000\"\n",
      "(Epoch \"2\" / \"25\") train acc: \"0.450000\"; val_acc: \"0.261000\"\n",
      "(Epoch \"3\" / \"25\") train acc: \"0.540000\"; val_acc: \"0.267000\"\n",
      "(Epoch \"4\" / \"25\") train acc: \"0.602000\"; val_acc: \"0.301000\"\n",
      "(Epoch \"5\" / \"25\") train acc: \"0.632000\"; val_acc: \"0.295000\"\n",
      "(Epoch \"6\" / \"25\") train acc: \"0.704000\"; val_acc: \"0.298000\"\n",
      "(Epoch \"7\" / \"25\") train acc: \"0.760000\"; val_acc: \"0.288000\"\n",
      "(Epoch \"8\" / \"25\") train acc: \"0.780000\"; val_acc: \"0.313000\"\n",
      "(Epoch \"9\" / \"25\") train acc: \"0.802000\"; val_acc: \"0.286000\"\n",
      "(Epoch \"10\" / \"25\") train acc: \"0.828000\"; val_acc: \"0.295000\"\n",
      "(Epoch \"11\" / \"25\") train acc: \"0.862000\"; val_acc: \"0.314000\"\n",
      "(Epoch \"12\" / \"25\") train acc: \"0.878000\"; val_acc: \"0.317000\"\n",
      "(Epoch \"13\" / \"25\") train acc: \"0.906000\"; val_acc: \"0.315000\"\n",
      "(Epoch \"14\" / \"25\") train acc: \"0.904000\"; val_acc: \"0.301000\"\n",
      "(Epoch \"15\" / \"25\") train acc: \"0.882000\"; val_acc: \"0.306000\"\n",
      "(Epoch \"16\" / \"25\") train acc: \"0.928000\"; val_acc: \"0.308000\"\n",
      "(Epoch \"17\" / \"25\") train acc: \"0.944000\"; val_acc: \"0.328000\"\n",
      "(Epoch \"18\" / \"25\") train acc: \"0.948000\"; val_acc: \"0.339000\"\n",
      "(Epoch \"19\" / \"25\") train acc: \"0.962000\"; val_acc: \"0.315000\"\n",
      "(Epoch \"20\" / \"25\") train acc: \"0.958000\"; val_acc: \"0.310000\"\n",
      "(Epoch \"21\" / \"25\") train acc: \"0.960000\"; val_acc: \"0.320000\"\n",
      "(Epoch \"22\" / \"25\") train acc: \"0.980000\"; val_acc: \"0.333000\"\n",
      "(Epoch \"23\" / \"25\") train acc: \"0.978000\"; val_acc: \"0.344000\"\n",
      "(Epoch \"24\" / \"25\") train acc: \"0.978000\"; val_acc: \"0.327000\"\n",
      "(Epoch \"25\" / \"25\") train acc: \"0.974000\"; val_acc: \"0.320000\"\n",
      "We use dropout with p = \"0.750000\"\n",
      "0.75\n",
      "(Iteration \"1\" / \"125\") loss: \"10.368480\"\n",
      "(Epoch \"0\" / \"25\") train acc: \"0.248000\"; val_acc: \"0.174000\"\n",
      "(Epoch \"1\" / \"25\") train acc: \"0.378000\"; val_acc: \"0.240000\"\n",
      "(Epoch \"2\" / \"25\") train acc: \"0.460000\"; val_acc: \"0.226000\"\n",
      "(Epoch \"3\" / \"25\") train acc: \"0.570000\"; val_acc: \"0.272000\"\n",
      "(Epoch \"4\" / \"25\") train acc: \"0.642000\"; val_acc: \"0.266000\"\n",
      "(Epoch \"5\" / \"25\") train acc: \"0.684000\"; val_acc: \"0.302000\"\n",
      "(Epoch \"6\" / \"25\") train acc: \"0.758000\"; val_acc: \"0.313000\"\n",
      "(Epoch \"7\" / \"25\") train acc: \"0.844000\"; val_acc: \"0.297000\"\n",
      "(Epoch \"8\" / \"25\") train acc: \"0.832000\"; val_acc: \"0.292000\"\n",
      "(Epoch \"9\" / \"25\") train acc: \"0.892000\"; val_acc: \"0.312000\"\n",
      "(Epoch \"10\" / \"25\") train acc: \"0.908000\"; val_acc: \"0.309000\"\n",
      "(Epoch \"11\" / \"25\") train acc: \"0.916000\"; val_acc: \"0.311000\"\n",
      "(Epoch \"12\" / \"25\") train acc: \"0.946000\"; val_acc: \"0.321000\"\n",
      "(Epoch \"13\" / \"25\") train acc: \"0.954000\"; val_acc: \"0.334000\"\n",
      "(Epoch \"14\" / \"25\") train acc: \"0.960000\"; val_acc: \"0.325000\"\n",
      "(Epoch \"15\" / \"25\") train acc: \"0.972000\"; val_acc: \"0.302000\"\n",
      "(Epoch \"16\" / \"25\") train acc: \"0.986000\"; val_acc: \"0.311000\"\n",
      "(Epoch \"17\" / \"25\") train acc: \"0.986000\"; val_acc: \"0.313000\"\n",
      "(Epoch \"18\" / \"25\") train acc: \"0.990000\"; val_acc: \"0.310000\"\n",
      "(Epoch \"19\" / \"25\") train acc: \"0.986000\"; val_acc: \"0.303000\"\n",
      "(Epoch \"20\" / \"25\") train acc: \"0.984000\"; val_acc: \"0.314000\"\n",
      "(Epoch \"21\" / \"25\") train acc: \"0.978000\"; val_acc: \"0.319000\"\n",
      "(Epoch \"22\" / \"25\") train acc: \"0.988000\"; val_acc: \"0.312000\"\n",
      "(Epoch \"23\" / \"25\") train acc: \"1.000000\"; val_acc: \"0.308000\"\n",
      "(Epoch \"24\" / \"25\") train acc: \"0.994000\"; val_acc: \"0.300000\"\n",
      "(Epoch \"25\" / \"25\") train acc: \"0.996000\"; val_acc: \"0.318000\"\n"
     ]
    }
   ],
   "source": [
    "num_train = 500\n",
    "small_data = {\n",
    "  'X_train': data['X_train'][:num_train],\n",
    "  'y_train': data['y_train'][:num_train],\n",
    "  'X_val': data['X_val'],\n",
    "  'y_val': data['y_val'],\n",
    "}\n",
    "solvers = {}\n",
    "dropout_choices = [0.0, 0.25, 0.5, 0.75]\n",
    "\n",
    "for dropout in dropout_choices:\n",
    "    model = FullyConnectedNet([500], dropout=dropout)\n",
    "    print(dropout)\n",
    "\n",
    "    solver = Solver(model, small_data,\n",
    "                    num_epochs=25, batch_size=100,\n",
    "                    update_rule='Adam',\n",
    "                    optim_config={\n",
    "                        'learning_rate': 5e-4,   \n",
    "                    },\n",
    "                    verbose=True, print_every=500)\n",
    "    solver.train()\n",
    "    solvers[dropout] = solver"
   ]
  },
  {
   "cell_type": "code",
   "execution_count": 10,
   "metadata": {
    "collapsed": false
   },
   "outputs": [
    {
     "data": {
      "image/png": "[encoded data removed]",
      "text/plain": [
       "<matplotlib.figure.Figure at 0x268ef4bca58>"
      ]
     },
     "metadata": {},
     "output_type": "display_data"
    }
   ],
   "source": [
    "# Plot train and validation accuracies of the two models\n",
    "train_accs = []\n",
    "val_accs = []\n",
    "for dropout in dropout_choices:\n",
    "    solver = solvers[dropout]\n",
    "    train_accs.append(solver.train_acc_history[-1])\n",
    "    val_accs.append(solver.val_acc_history[-1])\n",
    "\n",
    "plt.subplot(2, 1, 1)\n",
    "for dropout in dropout_choices:\n",
    "    plt.plot(solvers[dropout].train_acc_history, 'o', label='%.2f dropout' % dropout)\n",
    "    \n",
    "plt.title('Train accuracy')\n",
    "plt.xlabel('Epoch')\n",
    "plt.ylabel('Accuracy')\n",
    "plt.legend(ncol=2, loc='lower right')\n",
    "  \n",
    "plt.subplot(2, 1, 2)\n",
    "for dropout in dropout_choices:\n",
    "    plt.plot(solvers[dropout].val_acc_history, 'o', label='%.2f dropout' % dropout)\n",
    "    \n",
    "plt.title('Val accuracy')\n",
    "plt.xlabel('Epoch')\n",
    "plt.ylabel('Accuracy')\n",
    "plt.legend(ncol=2, loc='lower right')\n",
    "\n",
    "\n",
    "plt.show()"
   ]
  }
 ],
 "metadata": {
  "kernelspec": {
   "display_name": "Python 3",
   "language": "python",
   "name": "python3"
  },
  "language_info": {
   "codemirror_mode": {
    "name": "ipython",
    "version": 3
   },
   "file_extension": ".py",
   "mimetype": "text/x-python",
   "name": "python",
   "nbconvert_exporter": "python",
   "pygments_lexer": "ipython3",
   "version": "3.6.0"
  }
 },
 "nbformat": 4,
 "nbformat_minor": 2
}
