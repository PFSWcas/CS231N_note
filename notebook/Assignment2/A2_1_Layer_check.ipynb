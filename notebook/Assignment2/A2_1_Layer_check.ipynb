{
 "cells": [
  {
   "cell_type": "markdown",
   "metadata": {},
   "source": [
    "# Fundation: Layer check "
   ]
  },
  {
   "cell_type": "markdown",
   "metadata": {},
   "source": [
    "To implement fully-connected networks using a more modular approach, a more modular design is applied to  build networks. Such that, we can implement different layer types in isolation and then snap them together into models with different architectures.\n",
    "\n",
    "For each layer, we will implement a forward and a backward function. The forward function will receive inputs, weights, and other parameters  and will return both an output and a cache object storing data needed for the backward pass, like this:\n",
    "```python\n",
    "    def layer_forward(x, w):\n",
    "      # Receive inputs x and weights w \n",
    "      # Do some computations ...\n",
    "      z = # ... some intermediate value\n",
    "      # Do some more computations ...\n",
    "      out = # the output\n",
    "\n",
    "      cache = (x, w, z, out) # Values we need to compute gradients\n",
    "\n",
    "      return out, cache\n",
    "```\n",
    "The backward pass will receive upstream derivatives and the cache object, \n",
    "and will return gradients with respect to the inputs and weights, like this:\n",
    "```python\n",
    "    def layer_backward(dout, cache):\n",
    "      # Unpack cache values\n",
    "      x, w, z, out = cache\n",
    "\n",
    "      # Use values in cache to compute derivatives\n",
    "      dx = # Derivative of loss with respect to x\n",
    "      dw = # Derivative of loss with respect to w\n",
    "\n",
    "      return dx, dw\n",
    "```"
   ]
  },
  {
   "cell_type": "markdown",
   "metadata": {},
   "source": [
    "## 2. Basic Settins and functions"
   ]
  },
  {
   "cell_type": "code",
   "execution_count": 1,
   "metadata": {
    "collapsed": true
   },
   "outputs": [],
   "source": [
    "import time\n",
    "import numpy as np\n",
    "from CS231n.layer_utils import *\n",
    "from CS231n.classifiers.fc_net import TwoLayerNet\n",
    "from CS231n.gradient_check import eval_numerical_gradient, eval_numerical_gradient_array\n",
    "\n",
    "import matplotlib.pyplot as plt\n",
    "%matplotlib inline\n",
    "\n",
    "# Optional setting\n",
    "# for auto-reloading external modules\n",
    "# see http://stackoverflow.com/questions/1907993/autoreload-of-modules-in-ipython\n",
    "# %load_ext autoreload\n",
    "# %autoreload 2"
   ]
  },
  {
   "cell_type": "markdown",
   "metadata": {},
   "source": [
    "## Gradients check\n",
    "**Use the centered formula. **\n",
    "$$\n",
    "\\frac{{df\\left( x \\right)}}{{dx}} = \\frac{{f\\left( {x + h} \\right) - f\\left( {x - h} \\right)}}{{2h}}\n",
    "$$\n",
    "\n",
    "This requires you to evaluate the loss function twice to check every single dimension of the gradient (so it is about 2 times as expensive), but the gradient approximation turns out to be much more precise. To see this, you can use Taylor expansion of $f(x+h)$ and $f(x−h)$ and verify that the first formula has an error on order of $O(h)$, while the second formula only has error terms on order of $O(h^2)$ (i.e. it is a second order approximation).\n",
    "\n",
    "**Use relative error for the comparison. **\n",
    "\n",
    "What are the details of comparing the numerical gradient ${f'_n}$ and analytic gradient ${f'_a}$? That is, how do we know if the two are not compatible? You might be temped to keep track of the difference $\\left| {{{f'}_n} - {{f'}_a}} \\right|$ or its square and define the gradient check as failed if that difference is above a threshold. However, this is problematic. For example, consider the case where their difference is 1e-4. This seems like a very appropriate difference if the two gradients are about 1.0, so we’d consider the two gradients to match. But if the gradients were both on order of 1e-5 or lower, then we’d consider 1e-4 to be a huge difference and likely a failure. Hence, it is always more appropriate to consider the **relative error**:\n",
    "$$\n",
    "\\frac{{\\left| {{{f'}_n} - {{f'}_a}} \\right|}}{{\\max \\left( {\\left| {{{f'}_n}} \\right|,\\left| {f'} \\right|} \\right)}}\n",
    "$$"
   ]
  },
  {
   "cell_type": "code",
   "execution_count": 2,
   "metadata": {
    "collapsed": true
   },
   "outputs": [],
   "source": [
    "def rel_error(x, y):\n",
    "  \"\"\" returns relative error \"\"\"\n",
    "  return np.max(np.abs(x - y) / (np.maximum(1e-8, np.abs(x) + np.abs(y))))"
   ]
  },
  {
   "cell_type": "markdown",
   "metadata": {},
   "source": [
    "## 3.1.  Affine layer: forward\n",
    "\n",
    "for affine, we cache the input image, weigths and biases"
   ]
  },
  {
   "cell_type": "code",
   "execution_count": 3,
   "metadata": {
    "collapsed": false
   },
   "outputs": [
    {
     "name": "stdout",
     "output_type": "stream",
     "text": [
      "Testing affine_forward function:\n",
      "difference:  9.76984772881e-10\n"
     ]
    }
   ],
   "source": [
    "input_shape = (2, 4, 5, 6)\n",
    "output_dim = 3\n",
    "\n",
    "input_size = np.prod(input_shape)\n",
    "weight_size = output_dim *  np.prod(input_shape[1:])\n",
    "\n",
    "x = np.linspace(-0.1, 0.5, num=input_size).reshape(input_shape)\n",
    "w = np.linspace(-0.2, 0.3, num=weight_size).reshape(np.prod(input_shape[1:]), output_dim)\n",
    "b = np.linspace(-0.3, 0.1, num=output_dim)\n",
    "\n",
    "out, _ = affine_forward(x, w, b)  # affine forward function\n",
    "\n",
    "correct_out = np.array([[ 1.49834967,  1.70660132,  1.91485297],\n",
    "                        [ 3.25553199,  3.5141327,   3.77273342]])\n",
    "\n",
    "# Compare your output with ours. The error should be around 1e-9.\n",
    "print('Testing affine_forward function:')\n",
    "print('difference: ', rel_error(out, correct_out))"
   ]
  },
  {
   "cell_type": "markdown",
   "metadata": {},
   "source": [
    "## 3.2. Affine layer: backward"
   ]
  },
  {
   "cell_type": "code",
   "execution_count": 4,
   "metadata": {
    "collapsed": false
   },
   "outputs": [
    {
     "name": "stdout",
     "output_type": "stream",
     "text": [
      "Testing affine_backward function:\n",
      "dx error:  2.87031649194e-10\n",
      "dw error:  1.55235700564e-10\n",
      "db error:  3.24162968444e-12\n"
     ]
    }
   ],
   "source": [
    "x = np.random.randn(10, 2, 3)\n",
    "w = np.random.randn(6, 5)\n",
    "b = np.random.randn(5)\n",
    "dout = np.random.randn(10, 5)\n",
    "\n",
    "dx_num = eval_numerical_gradient_array(lambda x: affine_forward(x, w, b)[0], x, dout)\n",
    "dw_num = eval_numerical_gradient_array(lambda w: affine_forward(x, w, b)[0], w, dout)\n",
    "db_num = eval_numerical_gradient_array(lambda b: affine_forward(x, w, b)[0], b, dout)\n",
    "\n",
    "_, cache = affine_forward(x, w, b)      \n",
    "\n",
    "dx, dw, db = affine_backward(dout, cache)\n",
    "\n",
    "# The error should be around 1e-10\n",
    "print( 'Testing affine_backward function:')\n",
    "print( 'dx error: ', rel_error(dx_num, dx))\n",
    "print( 'dw error: ', rel_error(dw_num, dw))\n",
    "print( 'db error: ', rel_error(db_num, db))"
   ]
  },
  {
   "cell_type": "markdown",
   "metadata": {},
   "source": [
    "In the function *eval_numerical_gradient_array.py*, we evaluate a numeric gradient for a function that accepts a numpy\n",
    " array and returns a numpy array. Here, we use\n",
    " \n",
    " $$\n",
    " \\frac{{dL}}{{dx}} = \\frac{{dL}}{{df}} \\cdot \\frac{{df}}{{dx}}\n",
    " $$\n",
    " \n",
    "```python\n",
    "grad = np.zeros_like(x)\n",
    "it = np.nditer(x, flags=['multi_index'], op_flags=['readwrite'])\n",
    "while not it.finished:\n",
    "    ix = it.multi_index\n",
    "\n",
    "    oldval = x[ix]\n",
    "    x[ix] = oldval + h\n",
    "    pos = f(x).copy()\n",
    "    x[ix] = oldval - h\n",
    "    neg = f(x).copy()\n",
    "    x[ix] = oldval\n",
    "\n",
    "    grad[ix] = np.sum((pos - neg) * df / (2 * h))\n",
    "    it.iternext()\n",
    "return grad\n",
    "```"
   ]
  },
  {
   "cell_type": "markdown",
   "metadata": {},
   "source": [
    "## 3.3. Relu: forward"
   ]
  },
  {
   "cell_type": "code",
   "execution_count": 5,
   "metadata": {
    "collapsed": false
   },
   "outputs": [
    {
     "name": "stdout",
     "output_type": "stream",
     "text": [
      "Testing relu_forward function:\n",
      "difference:  4.99999979802e-08\n"
     ]
    }
   ],
   "source": [
    "x = np.linspace(-0.5, 0.5, num=12).reshape(3, 4)\n",
    "\n",
    "out, _ = ReLU_forward(x)\n",
    "\n",
    "correct_out = np.array([[ 0.,          0.,          0.,          0.,        ],\n",
    "                        [ 0.,          0.,          0.04545455,  0.13636364,],\n",
    "                        [ 0.22727273,  0.31818182,  0.40909091,  0.5,       ]])\n",
    "\n",
    "# Compare your output with ours. The error should be around 1e-8\n",
    "print( 'Testing relu_forward function:')\n",
    "print( 'difference: ', rel_error(out, correct_out) )"
   ]
  },
  {
   "cell_type": "markdown",
   "metadata": {},
   "source": [
    "## 3.4. Relu: backward"
   ]
  },
  {
   "cell_type": "code",
   "execution_count": 6,
   "metadata": {
    "collapsed": false
   },
   "outputs": [
    {
     "name": "stdout",
     "output_type": "stream",
     "text": [
      "Testing relu_backward function:\n",
      "dx error:  3.2756020245e-12\n"
     ]
    }
   ],
   "source": [
    "x = np.random.randn(10, 10)\n",
    "dout = np.random.randn(*x.shape)\n",
    "\n",
    "dx_num = eval_numerical_gradient_array(lambda x: ReLU_forward(x)[0], x, dout)\n",
    "\n",
    "_, cache = ReLU_forward(x)\n",
    "\n",
    "dx = ReLU_backward(dout, cache)\n",
    "\n",
    "# The error should be around 1e-12\n",
    "print( 'Testing relu_backward function:')\n",
    "print( 'dx error: ', rel_error(dx_num, dx))"
   ]
  },
  {
   "cell_type": "markdown",
   "metadata": {},
   "source": [
    "## 3.5. Cascade layer\n",
    "\n",
    "In this test, an **affie-Relu forward** layer is built."
   ]
  },
  {
   "cell_type": "code",
   "execution_count": 7,
   "metadata": {
    "collapsed": false
   },
   "outputs": [
    {
     "name": "stdout",
     "output_type": "stream",
     "text": [
      "Testing affine_relu_forward:\n",
      "dx error:  1.81935694598e-10\n",
      "dw error:  1.54564822949e-09\n",
      "db error:  1.65922384175e-11\n"
     ]
    }
   ],
   "source": [
    "x = np.random.randn(2, 3, 4)\n",
    "w = np.random.randn(12, 10)\n",
    "b = np.random.randn(10)\n",
    "dout = np.random.randn(2, 10)\n",
    "\n",
    "out, cache = affine_relu_forward(x, w, b)        # forward pass\n",
    "dx, dw, db = affine_relu_backward(dout, cache)   # backward pass\n",
    "\n",
    "dx_num = eval_numerical_gradient_array(lambda x: affine_relu_forward(x, w, b)[0], x, dout)\n",
    "dw_num = eval_numerical_gradient_array(lambda w: affine_relu_forward(x, w, b)[0], w, dout)\n",
    "db_num = eval_numerical_gradient_array(lambda b: affine_relu_forward(x, w, b)[0], b, dout)\n",
    "\n",
    "print( 'Testing affine_relu_forward:')\n",
    "print( 'dx error: ', rel_error(dx_num, dx))\n",
    "print( 'dw error: ', rel_error(dw_num, dw))\n",
    "print( 'db error: ', rel_error(db_num, db))"
   ]
  },
  {
   "cell_type": "markdown",
   "metadata": {},
   "source": [
    "## 3.6. Loss layer: Softmax and SVM\n",
    "\n",
    "In this test, softmax and SVM loss layer is implemented in vectorization way to accelerate the calculation.\n",
    "\n",
    "*svm_loss*: computes the loss and gradient using for multiclass SVM classification\n",
    "```python\n",
    "N = x.shape[0]\n",
    "\n",
    "# loss \n",
    "correct_class_scores = x[np.arange(N), y]\n",
    "margins = np.maximum(0, x - correct_class_scores[:, np.newaxis] + 1.0)\n",
    "margins[np.arange(N), y] = 0   # neglect the score reject to the groundtruth label\n",
    "loss = np.sum(margins) / N     # normarlize\n",
    "\n",
    "# gradient\n",
    "dx = np.zeros_like(x)          # d(Loss) / d(score)\n",
    "dx[margins > 0] = 1            # j != y_i, dx[:,j]=1, dx[:,y_i]=-1. dx[margin>0] include y_i.\n",
    "\n",
    "dx[np.arange(N), y] = -1*(x.shape[1] -1) # correct gradient of dx[:,y_i]\n",
    "\n",
    "dx /= N \n",
    "\n",
    "return loss, dx  \n",
    "```\n",
    "\n",
    "*softmax_loss*: computes the loss and gradient using for softmax classification\n",
    "```python\n",
    "N = x.shape[0]\n",
    "    \n",
    "probs = np.exp(x - np.max(x, axis=1, keepdims=True))  # Numeric stability trick\n",
    "probs /= np.sum(probs, axis=1, keepdims=True)         # probility of each class for each inpput image\n",
    "\n",
    "loss = -np.sum(np.log(probs[np.arange(N), y])) / N\n",
    "\n",
    "dx = probs.copy()\n",
    "dx[np.arange(N), y] -= 1 \n",
    "dx /= N\n",
    "```"
   ]
  },
  {
   "cell_type": "code",
   "execution_count": 8,
   "metadata": {
    "collapsed": false
   },
   "outputs": [
    {
     "name": "stdout",
     "output_type": "stream",
     "text": [
      "Testing svm_loss:\n",
      "loss:  9.00109841419\n",
      "dx error:  1.40215660067e-09\n",
      "\n",
      "Testing softmax_loss:\n",
      "loss:  2.30269540997\n",
      "dx error:  8.41313601832e-09\n"
     ]
    }
   ],
   "source": [
    "num_classes, num_inputs = 10, 50\n",
    "x = 0.001 * np.random.randn(num_inputs, num_classes)\n",
    "y = np.random.randint(num_classes, size=num_inputs)\n",
    "\n",
    "dx_num = eval_numerical_gradient(lambda x: svm_loss(x, y)[0], x, verbose=False)\n",
    "loss, dx = svm_loss(x, y)\n",
    "\n",
    "# Test svm_loss function. Loss should be around 9 and dx error should be 1e-9\n",
    "print( 'Testing svm_loss:')\n",
    "print( 'loss: ', loss)\n",
    "print( 'dx error: ', rel_error(dx_num, dx))\n",
    "\n",
    "dx_num = eval_numerical_gradient(lambda x: softmax_loss(x, y)[0], x, verbose=False)\n",
    "loss, dx = softmax_loss(x, y)\n",
    "\n",
    "# Test softmax_loss function. Loss should be 2.3 and dx error should be 1e-8\n",
    "print( '\\nTesting softmax_loss:')\n",
    "print( 'loss: ', loss)\n",
    "print( 'dx error: ', rel_error(dx_num, dx))"
   ]
  },
  {
   "cell_type": "markdown",
   "metadata": {},
   "source": [
    "## 3.7. Two-Layer network\n",
    "\n",
    "A two-layer fully-connected neural network with ReLU nonlinearity and  softmax loss that uses a modular layer design. We assume an input dimension of D, a hidden dimension of H, and perform classification over C classes. \n",
    "\n",
    "The architecure should be **affine - relu - affine - softmax**.\n",
    "\n",
    "Step1: Model initialization"
   ]
  },
  {
   "cell_type": "code",
   "execution_count": 9,
   "metadata": {
    "collapsed": false
   },
   "outputs": [
    {
     "name": "stdout",
     "output_type": "stream",
     "text": [
      "Testing initialization ... \n"
     ]
    }
   ],
   "source": [
    "N, D, H, C = 3, 5, 50, 7\n",
    "X = np.random.randn(N, D)\n",
    "y = np.random.randint(C, size=N)\n",
    "\n",
    "std = 1e-2\n",
    "model = TwoLayerNet(input_dim=D, hidden_dim=H, num_classes=C, weight_scale=std)\n",
    "\n",
    "print( 'Testing initialization ... ')\n",
    "W1_std = abs(model.params['W1'].std() - std)\n",
    "b1 = model.params['b1']\n",
    "W2_std = abs(model.params['W2'].std() - std)\n",
    "b2 = model.params['b2']\n",
    "assert W1_std < std / 10, 'First layer weights do not seem right'\n",
    "assert np.all(b1 == 0), 'First layer biases do not seem right'\n",
    "assert W2_std < std / 10, 'Second layer weights do not seem right'\n",
    "assert np.all(b2 == 0), 'Second layer biases do not seem right'"
   ]
  },
  {
   "cell_type": "markdown",
   "metadata": {},
   "source": [
    "Step2: test forward pass"
   ]
  },
  {
   "cell_type": "code",
   "execution_count": 10,
   "metadata": {
    "collapsed": false
   },
   "outputs": [
    {
     "name": "stdout",
     "output_type": "stream",
     "text": [
      "Testing test-time forward pass ... \n"
     ]
    }
   ],
   "source": [
    "print( 'Testing test-time forward pass ... ')\n",
    "model.params['W1'] = np.linspace(-0.7, 0.3, num=D*H).reshape(D, H)\n",
    "model.params['b1'] = np.linspace(-0.1, 0.9, num=H)\n",
    "model.params['W2'] = np.linspace(-0.3, 0.4, num=H*C).reshape(H, C)\n",
    "model.params['b2'] = np.linspace(-0.9, 0.1, num=C)\n",
    "X = np.linspace(-5.5, 4.5, num=N*D).reshape(D, N).T\n",
    "scores = model.loss(X)\n",
    "correct_scores = np.asarray(\n",
    "[[11.53165108,  12.2917344,   13.05181771,  13.81190102,  14.57198434, 15.33206765,  16.09215096],\n",
    "[12.05769098,  12.74614105,  13.43459113,  14.1230412,   14.81149128, 15.49994135,  16.18839143],\n",
    "[12.58373087,  13.20054771,  13.81736455,  14.43418138,  15.05099822, 15.66781506,  16.2846319 ]])\n",
    "scores_diff = np.abs(scores - correct_scores).sum()\n",
    "assert scores_diff < 1e-6, 'Problem with test-time forward pass'"
   ]
  },
  {
   "cell_type": "markdown",
   "metadata": {},
   "source": [
    "Step 3: test loss and gradient "
   ]
  },
  {
   "cell_type": "code",
   "execution_count": 11,
   "metadata": {
    "collapsed": false
   },
   "outputs": [
    {
     "name": "stdout",
     "output_type": "stream",
     "text": [
      "Testing training loss (no regularization)\n",
      "Running numeric gradient check with reg =  0.0\n",
      "Running numeric gradient check with reg =  0.7\n",
      "W1 relative error: 8.18e-07\n",
      "W2 relative error: 7.98e-08\n",
      "b1 relative error: 1.09e-09\n",
      "b2 relative error: 9.09e-10\n"
     ]
    }
   ],
   "source": [
    "print( 'Testing training loss (no regularization)')\n",
    "y = np.asarray([0, 5, 1])\n",
    "loss, grads = model.loss(X, y)\n",
    "correct_loss = 3.4702243556\n",
    "assert abs(loss - correct_loss) < 1e-10, 'Problem with training-time loss'\n",
    "\n",
    "model.reg = 1.0\n",
    "loss, grads = model.loss(X, y)\n",
    "correct_loss = 26.5948426952\n",
    "assert abs(loss - correct_loss) < 1e-10, 'Problem with regularization loss'\n",
    "\n",
    "for reg in [0.0, 0.7]:\n",
    "    print( 'Running numeric gradient check with reg = ', reg)\n",
    "    model.reg = reg\n",
    "    loss, grads = model.loss(X, y)\n",
    "\n",
    "for name in sorted(grads):\n",
    "    f = lambda _: model.loss(X, y)[0]\n",
    "    grad_num = eval_numerical_gradient(f, model.params[name], verbose=False)\n",
    "    print( '%s relative error: %.2e' % (name, rel_error(grad_num, grads[name])))"
   ]
  },
  {
   "cell_type": "markdown",
   "metadata": {},
   "source": [
    "## 4.1. Weight initialization"
   ]
  },
  {
   "cell_type": "markdown",
   "metadata": {},
   "source": [
    "```python\n",
    "W = 0.01*np.random.randn(D, H)\n",
    "``` \n",
    "\n",
    "Works ~okay for small networks, but problems with deeper networks. For example, 10-layer net with 500 neurons on each\n",
    "layer, using tanh non-linearities, and initializing as described in last slide."
   ]
  },
  {
   "cell_type": "code",
   "execution_count": 12,
   "metadata": {
    "collapsed": true
   },
   "outputs": [],
   "source": [
    "# assume some unit gaussian 10-D input data\n",
    "D = np.random.randn(1000, 50)\n",
    "hidden_layer_size = [500]*10\n",
    "nonlinearities = ['tanh']*len(hidden_layer_size)"
   ]
  },
  {
   "cell_type": "markdown",
   "metadata": {},
   "source": [
    "### Weights initialization with weight_scale=0.01"
   ]
  },
  {
   "cell_type": "code",
   "execution_count": 25,
   "metadata": {
    "collapsed": false
   },
   "outputs": [],
   "source": [
    "act = {'relu':lambda x: np.maximum(0, x), 'tanh': lambda x: np.tanh(x)}\n",
    "Hs = {}\n",
    "for i in range(len(hidden_layer_size)):\n",
    "    X = D if i == 0 else Hs[i-1] # input at this layer\n",
    "    fan_in = X.shape[1]\n",
    "    fan_out = hidden_layer_size[i]\n",
    "    W = np.random.randn(fan_in, fan_out) * 0.01 # layer initialization\n",
    "    \n",
    "    H = np.dot(X, W)                 # matrix multiply\n",
    "    H = act[nonlinearities[i]](H)    # nonlinearity\n",
    "     \n",
    "    Hs[i] = H                        # cache result on this layer"
   ]
  },
  {
   "cell_type": "code",
   "execution_count": 26,
   "metadata": {
    "collapsed": false
   },
   "outputs": [
    {
     "name": "stdout",
     "output_type": "stream",
     "text": [
      "Input layer had mean -0.009835 and std 0.999655\n",
      "Hidden layer 1 had mean 0.000028 and std 0.070410\n",
      "Hidden layer 2 had mean 0.000005 and std 0.015548\n",
      "Hidden layer 3 had mean -0.000007 and std 0.003482\n",
      "Hidden layer 4 had mean -0.000001 and std 0.000776\n",
      "Hidden layer 5 had mean 0.000000 and std 0.000172\n",
      "Hidden layer 6 had mean -0.000000 and std 0.000038\n",
      "Hidden layer 7 had mean -0.000000 and std 0.000009\n",
      "Hidden layer 8 had mean 0.000000 and std 0.000002\n",
      "Hidden layer 9 had mean 0.000000 and std 0.000000\n",
      "Hidden layer 10 had mean 0.000000 and std 0.000000\n"
     ]
    },
    {
     "data": {
      "image/png": "[encoded data removed]",
      "text/plain": [
       "<matplotlib.figure.Figure at 0x252ef74bf98>"
      ]
     },
     "metadata": {},
     "output_type": "display_data"
    },
    {
     "data": {
      "image/png": "[encoded data removed]",
      "text/plain": [
       "<matplotlib.figure.Figure at 0x252f20785c0>"
      ]
     },
     "metadata": {},
     "output_type": "display_data"
    }
   ],
   "source": [
    "# look at distributions at each layer\n",
    "print('Input layer had mean %f and std %f' % (np.mean(D), np.std(D)))\n",
    "\n",
    "layer_means = [np.mean(H) for i, H in Hs.items()]\n",
    "layer_stds = [np.std(H) for i, H in Hs.items()]\n",
    "\n",
    "for i, H in Hs.items():\n",
    "    print('Hidden layer %d had mean %f and std %f' % (i+1, layer_means[i], layer_stds[i]))\n",
    "\n",
    "# plot the means and standard devirations\n",
    "plt.figure(figsize=(15,5))\n",
    "plt.subplot(121)\n",
    "plt.plot(list(Hs.keys()), list(layer_means), 'ob-')\n",
    "plt.title('layer mean')\n",
    "plt.subplot(122)\n",
    "plt.plot(list(Hs.keys()), list(layer_stds), 'ob-')\n",
    "plt.title('layer std')\n",
    "\n",
    "# plot the raw distribution\n",
    "plt.figure(figsize=(15,5))\n",
    "for i, H in Hs.items():\n",
    "    plt.subplot(1, len(Hs)/1, i+1)\n",
    "    plt.hist(H.ravel(), 30, range=(-1,1))\n",
    "    plt.yticks([])"
   ]
  },
  {
   "cell_type": "markdown",
   "metadata": {},
   "source": [
    "### Weights initialization with weight_scale=1.0"
   ]
  },
  {
   "cell_type": "code",
   "execution_count": 27,
   "metadata": {
    "collapsed": false
   },
   "outputs": [
    {
     "name": "stdout",
     "output_type": "stream",
     "text": [
      "Input layer had mean -0.009835 and std 0.999655\n",
      "Hidden layer 1 had mean -0.000304 and std 0.942059\n",
      "Hidden layer 2 had mean -0.000662 and std 0.981100\n",
      "Hidden layer 3 had mean -0.002383 and std 0.981714\n",
      "Hidden layer 4 had mean -0.000942 and std 0.981582\n",
      "Hidden layer 5 had mean 0.000667 and std 0.981553\n",
      "Hidden layer 6 had mean 0.000160 and std 0.981650\n",
      "Hidden layer 7 had mean -0.000543 and std 0.981648\n",
      "Hidden layer 8 had mean 0.000555 and std 0.981694\n",
      "Hidden layer 9 had mean 0.001031 and std 0.981858\n",
      "Hidden layer 10 had mean 0.001976 and std 0.981491\n"
     ]
    },
    {
     "data": {
      "image/png": "[encoded data removed]",
      "text/plain": [
       "<matplotlib.figure.Figure at 0x252f17df400>"
      ]
     },
     "metadata": {},
     "output_type": "display_data"
    },
    {
     "data": {
      "image/png": "[encoded data removed]",
      "text/plain": [
       "<matplotlib.figure.Figure at 0x252f186bba8>"
      ]
     },
     "metadata": {},
     "output_type": "display_data"
    }
   ],
   "source": [
    "Hs = {}\n",
    "for i in range(len(hidden_layer_size)):\n",
    "    X = D if i == 0 else Hs[i-1] # input at this layer\n",
    "    fan_in = X.shape[1]\n",
    "    fan_out = hidden_layer_size[i]\n",
    "    W = np.random.randn(fan_in, fan_out) * 1.0 # layer initialization\n",
    "    \n",
    "    H = np.dot(X, W)                 # matrix multiply\n",
    "    H = act[nonlinearities[i]](H)    # nonlinearity\n",
    "     \n",
    "    Hs[i] = H                        # cache result on this layer\n",
    "\n",
    "# look at distributions at each layer\n",
    "print('Input layer had mean %f and std %f' % (np.mean(D), np.std(D)))\n",
    "\n",
    "layer_means = [np.mean(H) for i, H in Hs.items()]\n",
    "layer_stds = [np.std(H) for i, H in Hs.items()]\n",
    "\n",
    "for i, H in Hs.items():\n",
    "    print('Hidden layer %d had mean %f and std %f' % (i+1, layer_means[i], layer_stds[i]))\n",
    "\n",
    "# plot the means and standard devirations\n",
    "plt.figure(figsize=(15,5))\n",
    "plt.subplot(121)\n",
    "plt.plot(list(Hs.keys()), list(layer_means), 'ob-')\n",
    "plt.title('layer mean')\n",
    "plt.subplot(122)\n",
    "plt.plot(list(Hs.keys()), list(layer_stds), 'ob-')\n",
    "plt.title('layer std')\n",
    "\n",
    "# plot the raw distribution\n",
    "plt.figure(figsize=(15,5))\n",
    "for i, H in Hs.items():\n",
    "    plt.subplot(1, len(Hs)/1, i+1)\n",
    "    plt.hist(H.ravel(), 30, range=(-1,1))\n",
    "    plt.yticks([])"
   ]
  },
  {
   "cell_type": "markdown",
   "metadata": {},
   "source": [
    "Almost all neurons completely saturated, either -1 and 1. Gradients will be all zero."
   ]
  },
  {
   "cell_type": "markdown",
   "metadata": {},
   "source": [
    "### Weights initialization using Xavier initialization\n",
    "The nonliearity is **tanh**"
   ]
  },
  {
   "cell_type": "code",
   "execution_count": 28,
   "metadata": {
    "collapsed": false
   },
   "outputs": [
    {
     "name": "stdout",
     "output_type": "stream",
     "text": [
      "Input layer had mean -0.009835 and std 0.999655\n",
      "Hidden layer 1 had mean -0.001697 and std 0.625897\n",
      "Hidden layer 2 had mean 0.000089 and std 0.483025\n",
      "Hidden layer 3 had mean -0.000589 and std 0.407252\n",
      "Hidden layer 4 had mean 0.000701 and std 0.354488\n",
      "Hidden layer 5 had mean -0.000701 and std 0.320037\n",
      "Hidden layer 6 had mean -0.000909 and std 0.292675\n",
      "Hidden layer 7 had mean 0.000002 and std 0.271632\n",
      "Hidden layer 8 had mean 0.000335 and std 0.253807\n",
      "Hidden layer 9 had mean 0.000228 and std 0.238510\n",
      "Hidden layer 10 had mean 0.000556 and std 0.224329\n"
     ]
    },
    {
     "data": {
      "image/png": "[encoded data removed]",
      "text/plain": [
       "<matplotlib.figure.Figure at 0x252ef7860f0>"
      ]
     },
     "metadata": {},
     "output_type": "display_data"
    },
    {
     "data": {
      "image/png": "[encoded data removed]",
      "text/plain": [
       "<matplotlib.figure.Figure at 0x252edda6c18>"
      ]
     },
     "metadata": {},
     "output_type": "display_data"
    }
   ],
   "source": [
    "Hs = {}\n",
    "for i in range(len(hidden_layer_size)):\n",
    "    X = D if i == 0 else Hs[i-1] # input at this layer\n",
    "    fan_in = X.shape[1]\n",
    "    fan_out = hidden_layer_size[i]\n",
    "    W = np.random.randn(fan_in, fan_out) / np.sqrt(fan_in) # layer initialization\n",
    "    \n",
    "    H = np.dot(X, W)                 # matrix multiply\n",
    "    H = act[nonlinearities[i]](H)    # nonlinearity\n",
    "     \n",
    "    Hs[i] = H                        # cache result on this layer\n",
    "\n",
    "# look at distributions at each layer\n",
    "print('Input layer had mean %f and std %f' % (np.mean(D), np.std(D)))\n",
    "\n",
    "layer_means = [np.mean(H) for i, H in Hs.items()]\n",
    "layer_stds = [np.std(H) for i, H in Hs.items()]\n",
    "\n",
    "for i, H in Hs.items():\n",
    "    print('Hidden layer %d had mean %f and std %f' % (i+1, layer_means[i], layer_stds[i]))\n",
    "\n",
    "# plot the means and standard devirations\n",
    "plt.figure(figsize=(15,5))\n",
    "plt.subplot(121)\n",
    "plt.plot(list(Hs.keys()), list(layer_means), 'ob-')\n",
    "plt.title('layer mean')\n",
    "plt.subplot(122)\n",
    "plt.plot(list(Hs.keys()), list(layer_stds), 'ob-')\n",
    "plt.title('layer std')\n",
    "\n",
    "# plot the raw distribution\n",
    "plt.figure(figsize=(15,5))\n",
    "for i, H in Hs.items():\n",
    "    plt.subplot(1, len(Hs)/1, i+1)\n",
    "    plt.hist(H.ravel(), 30, range=(-1,1))\n",
    "    plt.yticks([])"
   ]
  },
  {
   "cell_type": "markdown",
   "metadata": {},
   "source": [
    "Here, we use **Relu**"
   ]
  },
  {
   "cell_type": "code",
   "execution_count": 29,
   "metadata": {
    "collapsed": false
   },
   "outputs": [
    {
     "name": "stdout",
     "output_type": "stream",
     "text": [
      "Input layer had mean -0.009835 and std 0.999655\n",
      "Hidden layer 1 had mean 0.390061 and std 0.575764\n",
      "Hidden layer 2 had mean 0.274093 and std 0.404099\n",
      "Hidden layer 3 had mean 0.199105 and std 0.292556\n",
      "Hidden layer 4 had mean 0.146142 and std 0.206564\n",
      "Hidden layer 5 had mean 0.102439 and std 0.154969\n",
      "Hidden layer 6 had mean 0.078792 and std 0.117304\n",
      "Hidden layer 7 had mean 0.056759 and std 0.081061\n",
      "Hidden layer 8 had mean 0.040282 and std 0.060070\n",
      "Hidden layer 9 had mean 0.028873 and std 0.042840\n",
      "Hidden layer 10 had mean 0.022182 and std 0.033295\n"
     ]
    },
    {
     "data": {
      "image/png": "[encoded data removed]",
      "text/plain": [
       "<matplotlib.figure.Figure at 0x252f3825908>"
      ]
     },
     "metadata": {},
     "output_type": "display_data"
    },
    {
     "data": {
      "image/png": "[encoded data removed]",
      "text/plain": [
       "<matplotlib.figure.Figure at 0x252f21a9da0>"
      ]
     },
     "metadata": {},
     "output_type": "display_data"
    }
   ],
   "source": [
    "nonlinearities = ['relu']*len(hidden_layer_size)\n",
    "Hs = {}\n",
    "for i in range(len(hidden_layer_size)):\n",
    "    X = D if i == 0 else Hs[i-1] # input at this layer\n",
    "    fan_in = X.shape[1]\n",
    "    fan_out = hidden_layer_size[i]\n",
    "    W = np.random.randn(fan_in, fan_out) / np.sqrt(fan_in) # layer initialization\n",
    "    \n",
    "    H = np.dot(X, W)                 # matrix multiply\n",
    "    H = act[nonlinearities[i]](H)    # nonlinearity\n",
    "     \n",
    "    Hs[i] = H                        # cache result on this layer\n",
    "\n",
    "# look at distributions at each layer\n",
    "print('Input layer had mean %f and std %f' % (np.mean(D), np.std(D)))\n",
    "\n",
    "layer_means = [np.mean(H) for i, H in Hs.items()]\n",
    "layer_stds = [np.std(H) for i, H in Hs.items()]\n",
    "\n",
    "for i, H in Hs.items():\n",
    "    print('Hidden layer %d had mean %f and std %f' % (i+1, layer_means[i], layer_stds[i]))\n",
    "\n",
    "# plot the means and standard devirations\n",
    "plt.figure(figsize=(15,5))\n",
    "plt.subplot(121)\n",
    "plt.plot(list(Hs.keys()), list(layer_means), 'ob-')\n",
    "plt.title('layer mean')\n",
    "plt.subplot(122)\n",
    "plt.plot(list(Hs.keys()), list(layer_stds), 'ob-')\n",
    "plt.title('layer std')\n",
    "\n",
    "# plot the raw distribution\n",
    "plt.figure(figsize=(15,5))\n",
    "for i, H in Hs.items():\n",
    "    plt.subplot(1, len(Hs)/1, i+1)\n",
    "    plt.hist(H.ravel(), 30, range=(-1,1))\n",
    "    plt.yticks([])"
   ]
  },
  {
   "cell_type": "markdown",
   "metadata": {},
   "source": [
    "### Weights initialization using modified Xavier initialization"
   ]
  },
  {
   "cell_type": "code",
   "execution_count": 30,
   "metadata": {
    "collapsed": false
   },
   "outputs": [
    {
     "name": "stdout",
     "output_type": "stream",
     "text": [
      "Input layer had mean -0.009835 and std 0.999655\n",
      "Hidden layer 1 had mean 0.559233 and std 0.825998\n",
      "Hidden layer 2 had mean 0.568784 and std 0.839073\n",
      "Hidden layer 3 had mean 0.554230 and std 0.823583\n",
      "Hidden layer 4 had mean 0.535445 and std 0.786475\n",
      "Hidden layer 5 had mean 0.511438 and std 0.773527\n",
      "Hidden layer 6 had mean 0.508626 and std 0.767877\n",
      "Hidden layer 7 had mean 0.500853 and std 0.739665\n",
      "Hidden layer 8 had mean 0.512550 and std 0.753543\n",
      "Hidden layer 9 had mean 0.507254 and std 0.780131\n",
      "Hidden layer 10 had mean 0.515842 and std 0.751853\n"
     ]
    },
    {
     "data": {
      "image/png": "[encoded data removed]",
      "text/plain": [
       "<matplotlib.figure.Figure at 0x252ef76d710>"
      ]
     },
     "metadata": {},
     "output_type": "display_data"
    },
    {
     "data": {
      "image/png": "[encoded data removed]",
      "text/plain": [
       "<matplotlib.figure.Figure at 0x252f18e84a8>"
      ]
     },
     "metadata": {},
     "output_type": "display_data"
    }
   ],
   "source": [
    "nonlinearities = ['relu']*len(hidden_layer_size)\n",
    "Hs = {}\n",
    "for i in range(len(hidden_layer_size)):\n",
    "    X = D if i == 0 else Hs[i-1] # input at this layer\n",
    "    fan_in = X.shape[1]\n",
    "    fan_out = hidden_layer_size[i]\n",
    "    W = np.random.randn(fan_in, fan_out) / np.sqrt(fan_in/2) # layer initialization\n",
    "    \n",
    "    H = np.dot(X, W)                 # matrix multiply\n",
    "    H = act[nonlinearities[i]](H)    # nonlinearity\n",
    "     \n",
    "    Hs[i] = H                        # cache result on this layer\n",
    "\n",
    "# look at distributions at each layer\n",
    "print('Input layer had mean %f and std %f' % (np.mean(D), np.std(D)))\n",
    "\n",
    "layer_means = [np.mean(H) for i, H in Hs.items()]\n",
    "layer_stds = [np.std(H) for i, H in Hs.items()]\n",
    "\n",
    "for i, H in Hs.items():\n",
    "    print('Hidden layer %d had mean %f and std %f' % (i+1, layer_means[i], layer_stds[i]))\n",
    "\n",
    "# plot the means and standard devirations\n",
    "plt.figure(figsize=(15,5))\n",
    "plt.subplot(121)\n",
    "plt.plot(list(Hs.keys()), list(layer_means), 'ob-')\n",
    "plt.title('layer mean')\n",
    "plt.subplot(122)\n",
    "plt.plot(list(Hs.keys()), list(layer_stds), 'ob-')\n",
    "plt.title('layer std')\n",
    "\n",
    "# plot the raw distribution\n",
    "plt.figure(figsize=(15,5))\n",
    "for i, H in Hs.items():\n",
    "    plt.subplot(1, len(Hs)/1, i+1)\n",
    "    plt.hist(H.ravel(), 30, range=(-1,1))\n",
    "    plt.yticks([])"
   ]
  },
  {
   "cell_type": "code",
   "execution_count": 31,
   "metadata": {
    "collapsed": false
   },
   "outputs": [
    {
     "name": "stdout",
     "output_type": "stream",
     "text": [
      "Input layer had mean -0.009835 and std 0.999655\n",
      "Hidden layer 1 had mean 0.000396 and std 0.624542\n",
      "Hidden layer 2 had mean 0.000269 and std 0.479801\n",
      "Hidden layer 3 had mean -0.000823 and std 0.404073\n",
      "Hidden layer 4 had mean 0.000320 and std 0.354213\n",
      "Hidden layer 5 had mean 0.000506 and std 0.318498\n",
      "Hidden layer 6 had mean 0.000277 and std 0.289739\n",
      "Hidden layer 7 had mean 0.000445 and std 0.269115\n",
      "Hidden layer 8 had mean -0.000325 and std 0.251703\n",
      "Hidden layer 9 had mean 0.000382 and std 0.240530\n",
      "Hidden layer 10 had mean -0.000116 and std 0.228191\n"
     ]
    },
    {
     "data": {
      "image/png": "[encoded data removed]",
      "text/plain": [
       "<matplotlib.figure.Figure at 0x252f1894cf8>"
      ]
     },
     "metadata": {},
     "output_type": "display_data"
    },
    {
     "data": {
      "image/png": "[encoded data removed]",
      "text/plain": [
       "<matplotlib.figure.Figure at 0x252f1fd20b8>"
      ]
     },
     "metadata": {},
     "output_type": "display_data"
    }
   ],
   "source": [
    "nonlinearities = ['tanh']*len(hidden_layer_size)\n",
    "Hs = {}\n",
    "for i in range(len(hidden_layer_size)):\n",
    "    X = D if i == 0 else Hs[i-1] # input at this layer\n",
    "    fan_in = X.shape[1]\n",
    "    fan_out = hidden_layer_size[i]\n",
    "    W = np.random.randn(fan_in, fan_out) / np.sqrt(fan_in) # layer initialization\n",
    "    \n",
    "    H = np.dot(X, W)                 # matrix multiply\n",
    "    H = act[nonlinearities[i]](H)    # nonlinearity\n",
    "     \n",
    "    Hs[i] = H                        # cache result on this layer\n",
    "\n",
    "# look at distributions at each layer\n",
    "print('Input layer had mean %f and std %f' % (np.mean(D), np.std(D)))\n",
    "\n",
    "layer_means = [np.mean(H) for i, H in Hs.items()]\n",
    "layer_stds = [np.std(H) for i, H in Hs.items()]\n",
    "\n",
    "for i, H in Hs.items():\n",
    "    print('Hidden layer %d had mean %f and std %f' % (i+1, layer_means[i], layer_stds[i]))\n",
    "\n",
    "# plot the means and standard devirations\n",
    "plt.figure(figsize=(15,5))\n",
    "plt.subplot(121)\n",
    "plt.plot(list(Hs.keys()), list(layer_means), 'ob-')\n",
    "plt.title('layer mean')\n",
    "plt.subplot(122)\n",
    "plt.plot(list(Hs.keys()), list(layer_stds), 'ob-')\n",
    "plt.title('layer std')\n",
    "\n",
    "# plot the raw distribution\n",
    "plt.figure(figsize=(15,5))\n",
    "for i, H in Hs.items():\n",
    "    plt.subplot(1, len(Hs)/1, i+1)\n",
    "    plt.hist(H.ravel(), 30, range=(-1,1))\n",
    "    plt.yticks([])"
   ]
  }
 ],
 "metadata": {
  "kernelspec": {
   "display_name": "Python 3",
   "language": "python",
   "name": "python3"
  },
  "language_info": {
   "codemirror_mode": {
    "name": "ipython",
    "version": 3
   },
   "file_extension": ".py",
   "mimetype": "text/x-python",
   "name": "python",
   "nbconvert_exporter": "python",
   "pygments_lexer": "ipython3",
   "version": "3.6.0"
  }
 },
 "nbformat": 4,
 "nbformat_minor": 2
}
